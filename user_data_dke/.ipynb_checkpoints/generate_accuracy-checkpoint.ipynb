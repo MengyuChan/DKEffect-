{
 "cells": [
  {
   "cell_type": "code",
   "execution_count": 1,
   "metadata": {},
   "outputs": [],
   "source": [
    "output = []"
   ]
  },
  {
   "cell_type": "code",
   "execution_count": null,
   "metadata": {},
   "outputs": [],
   "source": []
  },
  {
   "cell_type": "code",
   "execution_count": null,
   "metadata": {},
   "outputs": [],
   "source": []
  },
  {
   "cell_type": "code",
   "execution_count": 2,
   "metadata": {},
   "outputs": [],
   "source": [
    "file = open('1616714995496-phase1_2021-03-25_230250_2021-03-26_000250.log', 'r')\n",
    "lines = file.read().splitlines()\n",
    "file.close()"
   ]
  },
  {
   "cell_type": "code",
   "execution_count": 3,
   "metadata": {},
   "outputs": [],
   "source": [
    "keep = []\n",
    "interactions = ['help_hover', 'set_attribute_weight_vector_init', 'set_attribute_weight_vector_select', 'set_attribute_weight_vector_drag', 'set_attribute_weight_vector_calc', 'double_click', 'category_click', 'eventType\\\":\\\"click', 'eventType\\\":\\\"hover', 'eventType\\\":\\\"drag']\n",
    "for line in lines:\n",
    "    for interaction in interactions:\n",
    "        if interaction in line:\n",
    "            keep.append(line)"
   ]
  },
  {
   "cell_type": "code",
   "execution_count": 4,
   "metadata": {},
   "outputs": [],
   "source": [
    "category = set()\n",
    "for line in lines:\n",
    "    if \"category_click\" in line:\n",
    "        category.add(line.partition('\\\"dataItem\\\":\\\"')[2].partition('\\\",\\\"eventName')[0])\n",
    "# category"
   ]
  },
  {
   "cell_type": "code",
   "execution_count": 5,
   "metadata": {},
   "outputs": [],
   "source": [
    "short = []\n",
    "for kept in keep:\n",
    "    string = kept.partition(\"whichCondition\")[0] + kept.partition('eventSpecificInfo\\\":{},')[2]\n",
    "    short.append(string)"
   ]
  },
  {
   "cell_type": "code",
   "execution_count": 6,
   "metadata": {},
   "outputs": [],
   "source": [
    "# for item in short:\n",
    "#     if 'Un-Assign' in item:\n",
    "#         print(item)"
   ]
  },
  {
   "cell_type": "code",
   "execution_count": 7,
   "metadata": {},
   "outputs": [],
   "source": [
    "# test unique user IDs\n",
    "uid = {}\n",
    "for item in short:\n",
    "    unique_id = (item.partition(\"userId\\\":\\\"\")[2][0:13])\n",
    "    if unique_id not in uid:\n",
    "        uid[unique_id] = [item]\n",
    "    else:\n",
    "        uid[unique_id].append(item)"
   ]
  },
  {
   "cell_type": "code",
   "execution_count": 8,
   "metadata": {},
   "outputs": [
    {
     "data": {
      "text/plain": [
       "dict_keys(['1616714995496'])"
      ]
     },
     "execution_count": 8,
     "metadata": {},
     "output_type": "execute_result"
    }
   ],
   "source": [
    "uid.keys()"
   ]
  },
  {
   "cell_type": "code",
   "execution_count": 9,
   "metadata": {},
   "outputs": [],
   "source": [
    "import os\n",
    "import pandas as pd \n",
    "dog_data = pd.read_csv(\"/Users/emily/Desktop/categorization_experiment-master/data/dog_indiv_50_removed.csv\") \n",
    "ball_data = pd.read_csv(\"/Users/emily/Desktop/categorization_experiment-master/data/bball_top50_decimal_removed.csv\") "
   ]
  },
  {
   "cell_type": "markdown",
   "metadata": {},
   "source": [
    "# correctness"
   ]
  },
  {
   "cell_type": "code",
   "execution_count": 10,
   "metadata": {},
   "outputs": [],
   "source": [
    "correctness = {}\n",
    "uid_lst = []\n",
    "for item in short:\n",
    "    text = item.partition(\"classification\\\":\\\"\")[2]\n",
    "    classification = text.partition(\"\\\",\\\"userId\")[0]\n",
    "    userid = text.partition(\"\\\",\\\"userId\\\":\\\"\")[2][0:13]\n",
    "    name = item.partition(\"\\\"Name\\\":\\\"\")[2].partition(\"\\\",\\\"\")[0]\n",
    "    if userid in uid.keys():\n",
    "        if userid not in correctness.keys():\n",
    "            correctness[userid] = [[name, classification]]\n",
    "        else:\n",
    "            correctness[userid].append([name, classification])\n",
    "\n",
    "for user in correctness:\n",
    "    for ans in correctness[user]:\n",
    "        name = ans[0]\n",
    "        classification = ans[1]\n",
    "        if name[0] == \"D\":\n",
    "            dog_id = name[4:]\n",
    "            true_label = dog_data.loc[dog_data[\"id\"] == int(dog_id)].iloc[0, 1]\n",
    "            if classification == true_label:\n",
    "                ans.append(\"T\")\n",
    "            elif classification == 'none':\n",
    "                ans.append(\"NA\")\n",
    "            else:\n",
    "                ans.append(\"F\")\n",
    "        if name[0] == \"P\":\n",
    "            player_id = name[7:]\n",
    "            true_label = ball_data.loc[ball_data[\"Player Anonymized\"] == int(player_id)].iloc[0, 3]\n",
    "            if classification == true_label:\n",
    "                ans.append(\"T\")\n",
    "            elif classification == 'none':\n",
    "                ans.append(\"NA\")\n",
    "            else:\n",
    "                ans.append(\"F\")"
   ]
  },
  {
   "cell_type": "code",
   "execution_count": 11,
   "metadata": {},
   "outputs": [],
   "source": [
    "\n",
    "for user in correctness:\n",
    "    row = []\n",
    "    dog_count = 0\n",
    "    dog_acc = 0\n",
    "    ball_count, ball_acc = 0, 0\n",
    "    for ans in correctness[user]:\n",
    "        if(ans[0][0]) == 'D':\n",
    "            dog_count += 1\n",
    "            if ans[-1] == 'T':\n",
    "                dog_acc += 1\n",
    "        if(ans[0][0]) == 'P':\n",
    "            ball_count += 1\n",
    "            if ans[-1] == 'T':\n",
    "                ball_acc += 1\n",
    "    row.append(user)\n",
    "    row.append(dog_acc/dog_count) if dog_count != 0 else row.append('NA')\n",
    "    row.append(ball_acc/ball_count) if ball_count != 0 else row.append('NA')\n",
    "    for ans in correctness[user]:\n",
    "        if ans[-1] == 'NA':\n",
    "            continue\n",
    "        if(ans[0][0]) == 'D':\n",
    "            dog_count += 1\n",
    "            if ans[-1] == 'T':\n",
    "                dog_acc += 1\n",
    "        if(ans[0][0]) == 'P':\n",
    "            ball_count += 1\n",
    "            if ans[-1] == 'T':\n",
    "                ball_acc += 1\n",
    "    row.append(dog_acc/dog_count) if dog_count != 0 else row.append('NA')\n",
    "    row.append(ball_acc/ball_count) if ball_count != 0 else row.append('NA')\n",
    "    output.append(row)"
   ]
  },
  {
   "cell_type": "code",
   "execution_count": 12,
   "metadata": {},
   "outputs": [
    {
     "data": {
      "text/plain": [
       "[['1616714995496',\n",
       "  0.4083333333333333,\n",
       "  0.1826086956521739,\n",
       "  0.4083333333333333,\n",
       "  0.1826086956521739]]"
      ]
     },
     "execution_count": 12,
     "metadata": {},
     "output_type": "execute_result"
    }
   ],
   "source": [
    "output"
   ]
  },
  {
   "cell_type": "code",
   "execution_count": null,
   "metadata": {},
   "outputs": [],
   "source": []
  },
  {
   "cell_type": "code",
   "execution_count": null,
   "metadata": {},
   "outputs": [],
   "source": []
  },
  {
   "cell_type": "code",
   "execution_count": null,
   "metadata": {},
   "outputs": [],
   "source": []
  },
  {
   "cell_type": "code",
   "execution_count": null,
   "metadata": {},
   "outputs": [],
   "source": []
  },
  {
   "cell_type": "code",
   "execution_count": null,
   "metadata": {},
   "outputs": [],
   "source": []
  },
  {
   "cell_type": "code",
   "execution_count": 57,
   "metadata": {},
   "outputs": [],
   "source": [
    "# import csv\n",
    "# with open('accuracy.csv', 'a') as f: \n",
    "#     write = csv.writer(f) \n",
    "#     write.writerow([\"user_id\", \"dog_accuracy\", \"bball_accurcy\", \"dog_accuracy_excludes_na\", \"bball_accuracy_excludes_na\"])\n",
    "#     write.writerows(output) "
   ]
  },
  {
   "cell_type": "code",
   "execution_count": 13,
   "metadata": {},
   "outputs": [],
   "source": [
    "import csv\n",
    "with open('accuracy.csv', 'a') as f: \n",
    "    write = csv.writer(f) \n",
    "    write.writerow([]) \n",
    "    write.writerows(output) "
   ]
  },
  {
   "cell_type": "code",
   "execution_count": null,
   "metadata": {},
   "outputs": [],
   "source": []
  },
  {
   "cell_type": "code",
   "execution_count": null,
   "metadata": {},
   "outputs": [],
   "source": []
  },
  {
   "cell_type": "code",
   "execution_count": null,
   "metadata": {},
   "outputs": [],
   "source": []
  },
  {
   "cell_type": "code",
   "execution_count": 48,
   "metadata": {},
   "outputs": [
    {
     "name": "stdout",
     "output_type": "stream",
     "text": [
      "user id: 1615570372496\n",
      "basketball: 0.125\n",
      "\n",
      "['1615570372496', 0.125, '1615572275050', 0.5344827586206896, 0.08641975308641975, 0.125]\n",
      "user id: 1615572275050\n",
      "basketball: 0.08641975308641975\n",
      "\n",
      "['1615570372496', 0.125, '1615572275050', 0.5344827586206896, 0.08641975308641975, 0.125, 0.5344827586206896, 0.08641975308641975]\n"
     ]
    }
   ],
   "source": [
    "# doesn't count NA\n",
    "for user in correctness:\n",
    "    dog_count = 0\n",
    "    dog_acc = 0\n",
    "    ball_count, ball_acc = 0, 0\n",
    "    for ans in correctness[user]:\n",
    "        if ans[-1] == 'NA':\n",
    "            continue\n",
    "        if(ans[0][0]) == 'D':\n",
    "            dog_count += 1\n",
    "            if ans[-1] == 'T':\n",
    "                dog_acc += 1\n",
    "        if(ans[0][0]) == 'P':\n",
    "            ball_count += 1\n",
    "            if ans[-1] == 'T':\n",
    "                ball_acc += 1\n",
    "    row.append(dog_acc/dog_count) if dog_count != 0 else row.append('NA')\n",
    "#     print(\"basketball:\", ball_acc/ball_count) if ball_count != 0 else print(\"no basketball data\")\n",
    "    row.append(ball_acc/ball_count) if ball_count != 0 else row.append('NA')\n",
    "    print()\n",
    "    print(row)\n",
    "\n",
    "# output.append(row)"
   ]
  },
  {
   "cell_type": "markdown",
   "metadata": {},
   "source": [
    "# output csv"
   ]
  },
  {
   "cell_type": "code",
   "execution_count": 28,
   "metadata": {},
   "outputs": [
    {
     "ename": "Error",
     "evalue": "iterable expected, not float",
     "output_type": "error",
     "traceback": [
      "\u001b[0;31m---------------------------------------------------------------------------\u001b[0m",
      "\u001b[0;31mError\u001b[0m                                     Traceback (most recent call last)",
      "\u001b[0;32m<ipython-input-28-f2ab0a2cf445>\u001b[0m in \u001b[0;36m<module>\u001b[0;34m()\u001b[0m\n\u001b[1;32m      3\u001b[0m     \u001b[0mwrite\u001b[0m \u001b[0;34m=\u001b[0m \u001b[0mcsv\u001b[0m\u001b[0;34m.\u001b[0m\u001b[0mwriter\u001b[0m\u001b[0;34m(\u001b[0m\u001b[0mf\u001b[0m\u001b[0;34m)\u001b[0m\u001b[0;34m\u001b[0m\u001b[0;34m\u001b[0m\u001b[0m\n\u001b[1;32m      4\u001b[0m     \u001b[0mwrite\u001b[0m\u001b[0;34m.\u001b[0m\u001b[0mwriterow\u001b[0m\u001b[0;34m(\u001b[0m\u001b[0;34m[\u001b[0m\u001b[0;34m\"user_id\"\u001b[0m\u001b[0;34m,\u001b[0m \u001b[0;34m\"dog_accuracy\"\u001b[0m\u001b[0;34m,\u001b[0m \u001b[0;34m\"bball_accurcy\"\u001b[0m\u001b[0;34m,\u001b[0m \u001b[0;34m\"dog_accuracy_excludes_na\"\u001b[0m\u001b[0;34m,\u001b[0m \u001b[0;34m\"bball_accuracy_excludes_na\"\u001b[0m\u001b[0;34m]\u001b[0m\u001b[0;34m)\u001b[0m\u001b[0;34m\u001b[0m\u001b[0;34m\u001b[0m\u001b[0m\n\u001b[0;32m----> 5\u001b[0;31m     \u001b[0mwrite\u001b[0m\u001b[0;34m.\u001b[0m\u001b[0mwriterows\u001b[0m\u001b[0;34m(\u001b[0m\u001b[0moutput\u001b[0m\u001b[0;34m)\u001b[0m\u001b[0;34m\u001b[0m\u001b[0;34m\u001b[0m\u001b[0m\n\u001b[0m",
      "\u001b[0;31mError\u001b[0m: iterable expected, not float"
     ]
    }
   ],
   "source": [
    "import csv\n",
    "with open('accuracy.csv', 'w') as f: \n",
    "    write = csv.writer(f) \n",
    "    write.writerow([\"user_id\", \"dog_accuracy\", \"bball_accurcy\", \"dog_accuracy_excludes_na\", \"bball_accuracy_excludes_na\"])\n",
    "    write.writerows(output) "
   ]
  },
  {
   "cell_type": "code",
   "execution_count": null,
   "metadata": {},
   "outputs": [],
   "source": []
  },
  {
   "cell_type": "code",
   "execution_count": null,
   "metadata": {},
   "outputs": [],
   "source": []
  },
  {
   "cell_type": "code",
   "execution_count": null,
   "metadata": {},
   "outputs": [],
   "source": []
  },
  {
   "cell_type": "code",
   "execution_count": null,
   "metadata": {},
   "outputs": [],
   "source": []
  },
  {
   "cell_type": "code",
   "execution_count": null,
   "metadata": {},
   "outputs": [],
   "source": []
  },
  {
   "cell_type": "code",
   "execution_count": null,
   "metadata": {},
   "outputs": [],
   "source": []
  },
  {
   "cell_type": "code",
   "execution_count": 44,
   "metadata": {},
   "outputs": [
    {
     "data": {
      "text/plain": [
       "{'1615391948359': [['dog', 'F'],\n",
       "  ['dog', 'F'],\n",
       "  ['dog', 'F'],\n",
       "  ['dog', 'F'],\n",
       "  ['dog', 'F'],\n",
       "  ['dog', 'T'],\n",
       "  ['dog', 'T'],\n",
       "  ['dog', 'T'],\n",
       "  ['dog', 'T'],\n",
       "  ['dog', 'T'],\n",
       "  ['dog', 'T'],\n",
       "  ['dog', 'T'],\n",
       "  ['dog', 'T'],\n",
       "  ['dog', 'T'],\n",
       "  ['dog', 'T'],\n",
       "  ['dog', 'F'],\n",
       "  ['dog', 'F'],\n",
       "  ['dog', 'F'],\n",
       "  ['dog', 'F'],\n",
       "  ['dog', 'F'],\n",
       "  ['dog', 'F'],\n",
       "  ['dog', 'F'],\n",
       "  ['dog', 'F'],\n",
       "  ['dog', 'F'],\n",
       "  ['dog', 'F'],\n",
       "  ['dog', 'F'],\n",
       "  ['dog', 'F'],\n",
       "  ['dog', 'F'],\n",
       "  ['dog', 'T'],\n",
       "  ['dog', 'F'],\n",
       "  ['dog', 'F'],\n",
       "  ['dog', 'F'],\n",
       "  ['dog', 'T'],\n",
       "  ['dog', 'T'],\n",
       "  ['dog', 'F'],\n",
       "  ['dog', 'T'],\n",
       "  ['dog', 'T'],\n",
       "  ['dog', 'T'],\n",
       "  ['dog', 'F'],\n",
       "  ['dog', 'F'],\n",
       "  ['dog', 'F'],\n",
       "  ['dog', 'F'],\n",
       "  ['dog', 'F'],\n",
       "  ['dog', 'F'],\n",
       "  ['dog', 'F'],\n",
       "  ['dog', 'F'],\n",
       "  ['dog', 'F'],\n",
       "  ['dog', 'F'],\n",
       "  ['dog', 'F'],\n",
       "  ['dog', 'F'],\n",
       "  ['dog', 'F'],\n",
       "  ['dog', 'F'],\n",
       "  ['dog', 'F'],\n",
       "  ['dog', 'T'],\n",
       "  ['dog', 'T'],\n",
       "  ['dog', 'F'],\n",
       "  ['dog', 'T'],\n",
       "  ['dog', 'T'],\n",
       "  ['dog', 'F'],\n",
       "  ['dog', 'F'],\n",
       "  ['bball', 'NA'],\n",
       "  ['bball', 'NA'],\n",
       "  ['bball', 'NA'],\n",
       "  ['bball', 'NA'],\n",
       "  ['bball', 'F'],\n",
       "  ['bball', 'F'],\n",
       "  ['bball', 'F'],\n",
       "  ['bball', 'F'],\n",
       "  ['bball', 'F'],\n",
       "  ['bball', 'F'],\n",
       "  ['bball', 'F'],\n",
       "  ['bball', 'T'],\n",
       "  ['bball', 'T'],\n",
       "  ['bball', 'T'],\n",
       "  ['bball', 'T'],\n",
       "  ['bball', 'T'],\n",
       "  ['bball', 'T'],\n",
       "  ['bball', 'T'],\n",
       "  ['bball', 'T'],\n",
       "  ['bball', 'T'],\n",
       "  ['bball', 'T'],\n",
       "  ['bball', 'T'],\n",
       "  ['bball', 'T'],\n",
       "  ['bball', 'T'],\n",
       "  ['bball', 'F'],\n",
       "  ['bball', 'F'],\n",
       "  ['bball', 'F'],\n",
       "  ['bball', 'T'],\n",
       "  ['bball', 'F'],\n",
       "  ['bball', 'F'],\n",
       "  ['bball', 'T'],\n",
       "  ['bball', 'F'],\n",
       "  ['bball', 'F'],\n",
       "  ['bball', 'F'],\n",
       "  ['bball', 'F'],\n",
       "  ['bball', 'F'],\n",
       "  ['bball', 'F'],\n",
       "  ['bball', 'F'],\n",
       "  ['bball', 'F'],\n",
       "  ['bball', 'F'],\n",
       "  ['bball', 'F'],\n",
       "  ['bball', 'F'],\n",
       "  ['bball', 'F'],\n",
       "  ['bball', 'F'],\n",
       "  ['bball', 'F'],\n",
       "  ['bball', 'F'],\n",
       "  ['bball', 'F'],\n",
       "  ['bball', 'F'],\n",
       "  ['bball', 'F'],\n",
       "  ['bball', 'F'],\n",
       "  ['bball', 'F'],\n",
       "  ['bball', 'F'],\n",
       "  ['bball', 'F'],\n",
       "  ['bball', 'F'],\n",
       "  ['bball', 'F'],\n",
       "  ['bball', 'F'],\n",
       "  ['bball', 'F'],\n",
       "  ['bball', 'F'],\n",
       "  ['bball', 'F'],\n",
       "  ['bball', 'F'],\n",
       "  ['bball', 'F'],\n",
       "  ['bball', 'F'],\n",
       "  ['bball', 'F']],\n",
       " '1615415175670': [['bball', 'NA'],\n",
       "  ['bball', 'T'],\n",
       "  ['bball', 'F'],\n",
       "  ['bball', 'F'],\n",
       "  ['bball', 'F'],\n",
       "  ['bball', 'F'],\n",
       "  ['bball', 'F'],\n",
       "  ['bball', 'F'],\n",
       "  ['bball', 'T'],\n",
       "  ['bball', 'T'],\n",
       "  ['bball', 'F'],\n",
       "  ['bball', 'F'],\n",
       "  ['bball', 'F'],\n",
       "  ['bball', 'F'],\n",
       "  ['bball', 'F'],\n",
       "  ['bball', 'F'],\n",
       "  ['bball', 'F'],\n",
       "  ['bball', 'F'],\n",
       "  ['bball', 'F'],\n",
       "  ['bball', 'F'],\n",
       "  ['bball', 'F'],\n",
       "  ['bball', 'F'],\n",
       "  ['bball', 'F'],\n",
       "  ['bball', 'T'],\n",
       "  ['bball', 'F'],\n",
       "  ['bball', 'F'],\n",
       "  ['bball', 'F'],\n",
       "  ['bball', 'F'],\n",
       "  ['bball', 'F'],\n",
       "  ['bball', 'F'],\n",
       "  ['bball', 'F'],\n",
       "  ['bball', 'F'],\n",
       "  ['bball', 'F'],\n",
       "  ['bball', 'T'],\n",
       "  ['bball', 'F'],\n",
       "  ['bball', 'F'],\n",
       "  ['bball', 'F'],\n",
       "  ['bball', 'T'],\n",
       "  ['bball', 'F'],\n",
       "  ['bball', 'F'],\n",
       "  ['bball', 'F'],\n",
       "  ['bball', 'F'],\n",
       "  ['bball', 'T'],\n",
       "  ['bball', 'F'],\n",
       "  ['bball', 'T'],\n",
       "  ['bball', 'F'],\n",
       "  ['bball', 'F'],\n",
       "  ['bball', 'T'],\n",
       "  ['bball', 'T'],\n",
       "  ['bball', 'F'],\n",
       "  ['bball', 'F'],\n",
       "  ['bball', 'F'],\n",
       "  ['bball', 'T'],\n",
       "  ['bball', 'F'],\n",
       "  ['dog', 'NA'],\n",
       "  ['dog', 'NA'],\n",
       "  ['dog', 'NA'],\n",
       "  ['dog', 'NA'],\n",
       "  ['dog', 'NA'],\n",
       "  ['dog', 'NA'],\n",
       "  ['dog', 'NA'],\n",
       "  ['dog', 'NA'],\n",
       "  ['dog', 'NA'],\n",
       "  ['dog', 'F'],\n",
       "  ['dog', 'F'],\n",
       "  ['dog', 'F'],\n",
       "  ['dog', 'F'],\n",
       "  ['dog', 'F'],\n",
       "  ['dog', 'F'],\n",
       "  ['dog', 'F'],\n",
       "  ['dog', 'F'],\n",
       "  ['dog', 'T'],\n",
       "  ['dog', 'T'],\n",
       "  ['dog', 'F'],\n",
       "  ['dog', 'T'],\n",
       "  ['dog', 'T'],\n",
       "  ['dog', 'F'],\n",
       "  ['dog', 'T'],\n",
       "  ['dog', 'F'],\n",
       "  ['dog', 'F'],\n",
       "  ['dog', 'F'],\n",
       "  ['dog', 'F']]}"
      ]
     },
     "execution_count": 44,
     "metadata": {},
     "output_type": "execute_result"
    }
   ],
   "source": [
    "# calculating accuracy\n",
    "user_accuracy_dict = {}\n",
    "for log in output:\n",
    "    if log[1] == 'click':\n",
    "        user_id = log[0]\n",
    "        task_type = log[4]\n",
    "        correctness = log[5]\n",
    "        if user_id in uid.keys():\n",
    "            if user_id not in user_accuracy_dict:\n",
    "                user_accuracy_dict[user_id] = [[log[4], log[5]]]\n",
    "            else:\n",
    "                user_accuracy_dict[user_id].append([log[4], log[5]])\n",
    "            \n",
    "user_accuracy_dict"
   ]
  },
  {
   "cell_type": "code",
   "execution_count": 45,
   "metadata": {},
   "outputs": [
    {
     "name": "stdout",
     "output_type": "stream",
     "text": [
      "user id: 1615391948359\n",
      "dog: 0.3333333333333333\n",
      "basketball: 0.23809523809523808\n",
      "\n",
      "user id: 1615415175670\n",
      "dog: 0.17857142857142858\n",
      "basketball: 0.2037037037037037\n",
      "\n"
     ]
    }
   ],
   "source": [
    "for user in user_accuracy_dict:\n",
    "    dog_count, dog_acc = 0, 0\n",
    "    ball_count, ball_acc = 0, 0\n",
    "    for ans in user_accuracy_dict[user]:\n",
    "        if ans[0] == 'dog':\n",
    "            dog_count += 1\n",
    "            if ans[1] == 'T':\n",
    "                dog_acc += 1\n",
    "        if ans[0] == 'bball':\n",
    "            ball_count += 1\n",
    "            if ans[1] == 'T':\n",
    "                ball_acc += 1\n",
    "    print(\"user id:\", user)\n",
    "    print(\"dog:\", dog_acc/dog_count)\n",
    "    print(\"basketball:\", ball_acc/ball_count) if ball_count != 0 else print(\"no basketball data\")\n",
    "    print()"
   ]
  },
  {
   "cell_type": "code",
   "execution_count": null,
   "metadata": {},
   "outputs": [],
   "source": []
  },
  {
   "cell_type": "code",
   "execution_count": null,
   "metadata": {},
   "outputs": [],
   "source": []
  },
  {
   "cell_type": "code",
   "execution_count": null,
   "metadata": {},
   "outputs": [],
   "source": []
  },
  {
   "cell_type": "code",
   "execution_count": 61,
   "metadata": {},
   "outputs": [],
   "source": [
    "import pandas as pd\n",
    "df = pd.read_csv ('interaction.csv')\n",
    "df.loc[df['task_type'] == 'Unsure', \"task_type\"] = \"-\"\n",
    "\n",
    "\n",
    "for i in range(1, len(df) - 1):\n",
    "    if df.loc[i, 'task_type'] == '-':\n",
    "        if df.loc[i - 1, 'task_type'] == df.loc[i + 1, 'task_type'] and df.loc[i - 1, 'task_type'] != 'Unsure' and df.loc[i - 1, 'user_id'] == df.loc[i + 1, 'user_id']:\n",
    "            df.loc[i, 'task_type'] = df.loc[i - 1, 'task_type']\n",
    "#         if df.loc[i + 1, 'task_type'] == 'Unsure' and df.loc[i - 1, 'user_id'] == df.loc[i + 1, 'user_id']:\n",
    "#             for i in range \n",
    "            "
   ]
  },
  {
   "cell_type": "code",
   "execution_count": 56,
   "metadata": {},
   "outputs": [
    {
     "data": {
      "text/html": [
       "<div>\n",
       "<style scoped>\n",
       "    .dataframe tbody tr th:only-of-type {\n",
       "        vertical-align: middle;\n",
       "    }\n",
       "\n",
       "    .dataframe tbody tr th {\n",
       "        vertical-align: top;\n",
       "    }\n",
       "\n",
       "    .dataframe thead th {\n",
       "        text-align: right;\n",
       "    }\n",
       "</style>\n",
       "<table border=\"1\" class=\"dataframe\">\n",
       "  <thead>\n",
       "    <tr style=\"text-align: right;\">\n",
       "      <th></th>\n",
       "      <th>user_id</th>\n",
       "      <th>event_type</th>\n",
       "      <th>elapsedTime</th>\n",
       "      <th>eventTimeStamp</th>\n",
       "      <th>task_type</th>\n",
       "    </tr>\n",
       "  </thead>\n",
       "  <tbody>\n",
       "    <tr>\n",
       "      <th>140</th>\n",
       "      <td>1612299987503</td>\n",
       "      <td>eventType\":\"click</td>\n",
       "      <td>none</td>\n",
       "      <td>2021-02-02T21:12:20.762Z</td>\n",
       "      <td>Basketball</td>\n",
       "    </tr>\n",
       "    <tr>\n",
       "      <th>141</th>\n",
       "      <td>1612299987503</td>\n",
       "      <td>category_click</td>\n",
       "      <td>none</td>\n",
       "      <td>2021-02-02T21:12:21.816Z</td>\n",
       "      <td>Unsure</td>\n",
       "    </tr>\n",
       "    <tr>\n",
       "      <th>142</th>\n",
       "      <td>1612299987503</td>\n",
       "      <td>category_click</td>\n",
       "      <td>none</td>\n",
       "      <td>2021-02-02T21:12:22.252Z</td>\n",
       "      <td>Unsure</td>\n",
       "    </tr>\n",
       "    <tr>\n",
       "      <th>143</th>\n",
       "      <td>1612299987503</td>\n",
       "      <td>eventType\":\"hover</td>\n",
       "      <td>0.118</td>\n",
       "      <td>2021-02-02T21:12:22.869Z</td>\n",
       "      <td>Basketball</td>\n",
       "    </tr>\n",
       "    <tr>\n",
       "      <th>144</th>\n",
       "      <td>1612299987503</td>\n",
       "      <td>eventType\":\"drag</td>\n",
       "      <td>0.102</td>\n",
       "      <td>2021-02-02T21:12:23.379Z</td>\n",
       "      <td>Basketball</td>\n",
       "    </tr>\n",
       "    <tr>\n",
       "      <th>145</th>\n",
       "      <td>1612299987503</td>\n",
       "      <td>eventType\":\"click</td>\n",
       "      <td>none</td>\n",
       "      <td>2021-02-02T21:12:23.387Z</td>\n",
       "      <td>Basketball</td>\n",
       "    </tr>\n",
       "    <tr>\n",
       "      <th>146</th>\n",
       "      <td>1612299987503</td>\n",
       "      <td>eventType\":\"hover</td>\n",
       "      <td>0.333</td>\n",
       "      <td>2021-02-02T21:12:23.471Z</td>\n",
       "      <td>Basketball</td>\n",
       "    </tr>\n",
       "    <tr>\n",
       "      <th>147</th>\n",
       "      <td>1612299987503</td>\n",
       "      <td>eventType\":\"drag</td>\n",
       "      <td>0.085</td>\n",
       "      <td>2021-02-02T21:12:23.806Z</td>\n",
       "      <td>Basketball</td>\n",
       "    </tr>\n",
       "    <tr>\n",
       "      <th>148</th>\n",
       "      <td>1612299987503</td>\n",
       "      <td>eventType\":\"click</td>\n",
       "      <td>none</td>\n",
       "      <td>2021-02-02T21:12:23.812Z</td>\n",
       "      <td>Basketball</td>\n",
       "    </tr>\n",
       "    <tr>\n",
       "      <th>149</th>\n",
       "      <td>1612299987503</td>\n",
       "      <td>eventType\":\"hover</td>\n",
       "      <td>0.638</td>\n",
       "      <td>2021-02-02T21:12:24.133Z</td>\n",
       "      <td>Basketball</td>\n",
       "    </tr>\n",
       "  </tbody>\n",
       "</table>\n",
       "</div>"
      ],
      "text/plain": [
       "           user_id         event_type elapsedTime            eventTimeStamp  \\\n",
       "140  1612299987503  eventType\":\"click        none  2021-02-02T21:12:20.762Z   \n",
       "141  1612299987503     category_click        none  2021-02-02T21:12:21.816Z   \n",
       "142  1612299987503     category_click        none  2021-02-02T21:12:22.252Z   \n",
       "143  1612299987503  eventType\":\"hover       0.118  2021-02-02T21:12:22.869Z   \n",
       "144  1612299987503   eventType\":\"drag       0.102  2021-02-02T21:12:23.379Z   \n",
       "145  1612299987503  eventType\":\"click        none  2021-02-02T21:12:23.387Z   \n",
       "146  1612299987503  eventType\":\"hover       0.333  2021-02-02T21:12:23.471Z   \n",
       "147  1612299987503   eventType\":\"drag       0.085  2021-02-02T21:12:23.806Z   \n",
       "148  1612299987503  eventType\":\"click        none  2021-02-02T21:12:23.812Z   \n",
       "149  1612299987503  eventType\":\"hover       0.638  2021-02-02T21:12:24.133Z   \n",
       "\n",
       "      task_type  \n",
       "140  Basketball  \n",
       "141      Unsure  \n",
       "142      Unsure  \n",
       "143  Basketball  \n",
       "144  Basketball  \n",
       "145  Basketball  \n",
       "146  Basketball  \n",
       "147  Basketball  \n",
       "148  Basketball  \n",
       "149  Basketball  "
      ]
     },
     "execution_count": 56,
     "metadata": {},
     "output_type": "execute_result"
    }
   ],
   "source": [
    "df[140:150]"
   ]
  },
  {
   "cell_type": "code",
   "execution_count": 62,
   "metadata": {},
   "outputs": [],
   "source": [
    "df.to_csv('interaction_refined.csv', index=False)"
   ]
  },
  {
   "cell_type": "code",
   "execution_count": 63,
   "metadata": {},
   "outputs": [],
   "source": [
    "import pandas as pd\n",
    "df = pd.read_csv ('interaction_refined.csv')\n",
    "df.loc[df['task_type'] == '-', \"task_type\"] = \"/\"\n",
    "df.loc[df['event_type'] == 'eventType\\\":\\\"hover', \"event_type\"] = \"hover\"\n",
    "df.loc[df['event_type'] == 'eventType\\\":\\\"click', \"event_type\"] = \"click\"\n",
    "df.loc[df['event_type'] == 'eventType\\\":\\\"drag', \"event_type\"] = \"drag\"w"
   ]
  },
  {
   "cell_type": "code",
   "execution_count": 64,
   "metadata": {},
   "outputs": [],
   "source": [
    "df.to_csv('interaction_refined.csv', index=False)"
   ]
  },
  {
   "cell_type": "code",
   "execution_count": null,
   "metadata": {},
   "outputs": [],
   "source": []
  }
 ],
 "metadata": {
  "kernelspec": {
   "display_name": "Python 3",
   "language": "python",
   "name": "python3"
  },
  "language_info": {
   "codemirror_mode": {
    "name": "ipython",
    "version": 3
   },
   "file_extension": ".py",
   "mimetype": "text/x-python",
   "name": "python",
   "nbconvert_exporter": "python",
   "pygments_lexer": "ipython3",
   "version": "3.6.8"
  },
  "pycharm": {
   "stem_cell": {
    "cell_type": "raw",
    "metadata": {
     "collapsed": false
    },
    "source": []
   }
  }
 },
 "nbformat": 4,
 "nbformat_minor": 2
}
